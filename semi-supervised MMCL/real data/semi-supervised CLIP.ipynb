{
 "cells": [
  {
   "cell_type": "code",
   "execution_count": 1,
   "metadata": {
    "colab": {
     "base_uri": "https://localhost:8080/"
    },
    "executionInfo": {
     "elapsed": 2645,
     "status": "ok",
     "timestamp": 1670217390639,
     "user": {
      "displayName": "R N (nswa17)",
      "userId": "08662593655458358501"
     },
     "user_tz": 300
    },
    "id": "O3SkvYOdzU1I",
    "outputId": "81f463ce-8b27-41d5-87f4-435f72596253"
   },
   "outputs": [
    {
     "name": "stdout",
     "output_type": "stream",
     "text": [
      "Drive already mounted at /content/drive; to attempt to forcibly remount, call drive.mount(\"/content/drive\", force_remount=True).\n"
     ]
    }
   ],
   "source": [
    "import numpy as np\n",
    "import matplotlib.pyplot as plt\n",
    "import torch\n",
    "import torchvision.transforms as transforms\n",
    "from torchvision.datasets import MNIST, FashionMNIST\n",
    "from torch.utils.data import DataLoader, Dataset\n",
    "from sklearn.cluster import KMeans\n",
    "import torch.nn as nn\n",
    "import torch.nn.functional as F\n",
    "import copy\n",
    "from scipy.stats import ortho_group\n",
    "from google.colab import drive\n",
    "drive.mount('/content/drive')\n",
    "\n",
    "device = torch.device('cpu')\n",
    "#device = torch.device('cuda')\n",
    "#torch.cuda.get_device_name(device)\n",
    "torch.manual_seed(0)\n",
    "np.random.seed(0)"
   ]
  },
  {
   "cell_type": "code",
   "execution_count": 2,
   "metadata": {
    "executionInfo": {
     "elapsed": 11,
     "status": "ok",
     "timestamp": 1670217390640,
     "user": {
      "displayName": "R N (nswa17)",
      "userId": "08662593655458358501"
     },
     "user_tz": 300
    },
    "id": "TBQzoYyfVGpV"
   },
   "outputs": [],
   "source": [
    "transform = transforms.Compose([\n",
    "    transforms.ToTensor(),\n",
    "    transforms.Normalize([0],[1])\n",
    "])"
   ]
  },
  {
   "cell_type": "code",
   "execution_count": 3,
   "metadata": {
    "executionInfo": {
     "elapsed": 9,
     "status": "ok",
     "timestamp": 1670217390640,
     "user": {
      "displayName": "R N (nswa17)",
      "userId": "08662593655458358501"
     },
     "user_tz": 300
    },
    "id": "wCaL1M7a1f5v"
   },
   "outputs": [],
   "source": [
    "path0='./'\n",
    "pathAE='./'\n",
    "path='./'"
   ]
  },
  {
   "cell_type": "code",
   "execution_count": 4,
   "metadata": {
    "executionInfo": {
     "elapsed": 1315,
     "status": "ok",
     "timestamp": 1670217391947,
     "user": {
      "displayName": "R N (nswa17)",
      "userId": "08662593655458358501"
     },
     "user_tz": 300
    },
    "id": "hutjey8mXz9l"
   },
   "outputs": [],
   "source": [
    "dataset_MNIST = MNIST(root=path0, download=True, transform=transform, train=True)\n",
    "dataset_FMNIST = FashionMNIST(root=path0, download=True, transform=transform, train=True)\n",
    "dataset_MNIST_test = MNIST(root=path0, download=True, transform=transform, train=False)\n",
    "dataset_FMNIST_test = FashionMNIST(root=path0, download=True, transform=transform, train=False)"
   ]
  },
  {
   "cell_type": "code",
   "execution_count": 5,
   "metadata": {
    "executionInfo": {
     "elapsed": 7,
     "status": "ok",
     "timestamp": 1670217391948,
     "user": {
      "displayName": "R N (nswa17)",
      "userId": "08662593655458358501"
     },
     "user_tz": 300
    },
    "id": "zDUI3V1L1oP2"
   },
   "outputs": [],
   "source": [
    "class Autoencoder(nn.Module):\n",
    "    def __init__(self):\n",
    "        super().__init__()\n",
    "        self.cnn = nn.Sequential(\n",
    "            nn.Conv2d(1, 8, 3, stride=2, padding=1),\n",
    "            nn.ReLU(),\n",
    "            nn.Conv2d(8, 16, 3, stride=2, padding=1),\n",
    "            nn.BatchNorm2d(16),\n",
    "            nn.ReLU(),\n",
    "            nn.Conv2d(16, 32, 3, stride=2, padding=0),\n",
    "            nn.ReLU()\n",
    "        )\n",
    "\n",
    "        self.flatten = nn.Flatten(start_dim=1)\n",
    "\n",
    "        self.e = nn.Sequential(\n",
    "            nn.Linear(3*3*32, 128),\n",
    "            nn.ReLU(),\n",
    "            nn.Linear(128, 64),\n",
    "            nn.ReLU(), \n",
    "            nn.Linear(64, 32),\n",
    "            nn.ReLU(), \n",
    "            nn.Linear(32, 16)\n",
    "        )\n",
    "\n",
    "        self.d = nn.Sequential(\n",
    "            nn.Linear(16, 32),\n",
    "            nn.ReLU(), \n",
    "            nn.Linear(32, 64),\n",
    "            nn.ReLU(), \n",
    "            nn.Linear(64, 128),\n",
    "            nn.ReLU(), \n",
    "            nn.Linear(128, 3*3*32)\n",
    "        )\n",
    "\n",
    "        self.unflatten = nn.Unflatten(dim=1, unflattened_size=(32, 3, 3))\n",
    "\n",
    "        self.dcnn = nn.Sequential(\n",
    "            nn.ConvTranspose2d(32, 16, 3, stride=2, output_padding=0),\n",
    "            nn.BatchNorm2d(16),\n",
    "            nn.ReLU(),\n",
    "            nn.ConvTranspose2d(16, 8, 3, stride=2, padding=1, output_padding=1),\n",
    "            nn.BatchNorm2d(8),\n",
    "            nn.ReLU(),\n",
    "            nn.ConvTranspose2d(8, 1, 3, stride=2, padding=1, output_padding=1)\n",
    "        )\n",
    "\n",
    "    def encode(self, x):\n",
    "        x = self.cnn(x)\n",
    "        x = self.flatten(x)\n",
    "        x = self.e(x)\n",
    "\n",
    "        return x\n",
    "\n",
    "    def decode(self, x):\n",
    "        x = self.d(x)\n",
    "        x = self.unflatten(x)\n",
    "        x = self.dcnn(x)\n",
    "\n",
    "        return x\n",
    "        \n",
    "    def forward(self, x):\n",
    "        x = self.encode(x)\n",
    "        x = self.decode(x)\n",
    "\n",
    "        return x"
   ]
  },
  {
   "cell_type": "code",
   "execution_count": 6,
   "metadata": {
    "executionInfo": {
     "elapsed": 6,
     "status": "ok",
     "timestamp": 1670217391948,
     "user": {
      "displayName": "R N (nswa17)",
      "userId": "08662593655458358501"
     },
     "user_tz": 300
    },
    "id": "uQGaU7egwS_5"
   },
   "outputs": [],
   "source": [
    "class TwoModal(Dataset):\n",
    "    def __init__(self, data1, data2, idx=None):\n",
    "        self.d1 = torch.empty((0, 28, 28), device=device)\n",
    "        self.d2 = torch.empty((0, 28, 28), device=device)\n",
    "        self.t1 = torch.empty((0, ), device=device)\n",
    "        if idx is None:\n",
    "            idx = np.arange(np.min((len(data1), len(data2))))\n",
    "\n",
    "        for i in range(10):\n",
    "            idx1 = (data1.targets[idx] == i)\n",
    "            idx2 = (data2.targets[idx] == i)\n",
    "            label_count = np.min([idx1.sum().numpy(), idx2.sum().numpy()])\n",
    "            data1_c = data1.data[idx][idx1][:label_count]\n",
    "            data2_c = data2.data[idx][idx2][:label_count]\n",
    "            self.t1 = torch.cat((self.t1, torch.full((label_count, ), i)))\n",
    "            self.d1 = torch.cat((self.d1, data1_c))\n",
    "            self.d2 = torch.cat((self.d2, data2_c))\n",
    "        self.t2 = torch.clone(self.t1)\n",
    "\n",
    "    def __len__(self):\n",
    "        return len(self.t1)\n",
    "\n",
    "    def __getitem__(self, idx):\n",
    "        if torch.is_tensor(idx):\n",
    "            idx = idx.tolist()\n",
    "\n",
    "        return self.d1[idx], self.d2[idx], self.t1[idx], self.t2[idx]"
   ]
  },
  {
   "cell_type": "markdown",
   "metadata": {
    "id": "Ttf1aBW5vAj8"
   },
   "source": [
    "# Train semi-supervised CLIP"
   ]
  },
  {
   "cell_type": "code",
   "execution_count": 7,
   "metadata": {
    "executionInfo": {
     "elapsed": 7,
     "status": "ok",
     "timestamp": 1670217391949,
     "user": {
      "displayName": "R N (nswa17)",
      "userId": "08662593655458358501"
     },
     "user_tz": 300
    },
    "id": "j2RM9Fp4u5QH"
   },
   "outputs": [],
   "source": [
    "AE_MNIST = torch.load(pathAE+'AE_MNIST')\n",
    "AE_FMNIST = torch.load(pathAE+'AE_FMNIST')"
   ]
  },
  {
   "cell_type": "code",
   "execution_count": 8,
   "metadata": {
    "executionInfo": {
     "elapsed": 210,
     "status": "ok",
     "timestamp": 1670217392153,
     "user": {
      "displayName": "R N (nswa17)",
      "userId": "08662593655458358501"
     },
     "user_tz": 300
    },
    "id": "RljpPGBixm8w"
   },
   "outputs": [],
   "source": [
    "n = 500\n",
    "N = 60000 - 2*n\n",
    "v = n"
   ]
  },
  {
   "cell_type": "code",
   "execution_count": 9,
   "metadata": {
    "executionInfo": {
     "elapsed": 4,
     "status": "ok",
     "timestamp": 1670217392154,
     "user": {
      "displayName": "R N (nswa17)",
      "userId": "08662593655458358501"
     },
     "user_tz": 300
    },
    "id": "fQY6KIKTVMwR"
   },
   "outputs": [],
   "source": [
    "class TwoModalCompressed(TwoModal):\n",
    "    def __init__(self, data1, data2, idx=None):\n",
    "        super().__init__(data1, data2, idx)\n",
    "        self.d1 = AE_MNIST.encode(self.d1.reshape(-1, 1, 28, 28).float()).detach()\n",
    "        self.d2 = AE_FMNIST.encode(self.d2.reshape(-1, 1, 28, 28).float()).detach()"
   ]
  },
  {
   "cell_type": "code",
   "execution_count": 10,
   "metadata": {
    "executionInfo": {
     "elapsed": 5,
     "status": "ok",
     "timestamp": 1670217392155,
     "user": {
      "displayName": "R N (nswa17)",
      "userId": "08662593655458358501"
     },
     "user_tz": 300
    },
    "id": "92Km5sJ3XbR1"
   },
   "outputs": [],
   "source": [
    "class DualEncoders(nn.Module):\n",
    "    def __init__(self):\n",
    "        super().__init__()\n",
    "        self.e1 = nn.Sequential(\n",
    "            nn.Linear(16, 16),\n",
    "            nn.ReLU(),\n",
    "            nn.Linear(16, 16)\n",
    "        )\n",
    "        self.e2 = nn.Sequential(\n",
    "            nn.Linear(16, 16),\n",
    "            nn.ReLU(),\n",
    "            nn.Linear(16, 16)\n",
    "        )\n",
    "\n",
    "    def sim(self, x1, x2, tau=1):\n",
    "        latent1, latent2 = self.e1(x1), self.e2(x2)\n",
    "        latent1, latent2 = F.normalize(latent1), F.normalize(latent2)\n",
    "        return latent1 @ latent2.T / tau\n",
    "        \n",
    "    def forward(self, x1, x2):\n",
    "        x1_latent = self.e1(x1)\n",
    "        x2_latent = self.e2(x2)\n",
    "        return x1_latent, x2_latent"
   ]
  },
  {
   "cell_type": "code",
   "execution_count": 11,
   "metadata": {
    "executionInfo": {
     "elapsed": 12471,
     "status": "ok",
     "timestamp": 1670217404622,
     "user": {
      "displayName": "R N (nswa17)",
      "userId": "08662593655458358501"
     },
     "user_tz": 300
    },
    "id": "ldTK9Tpw_T_-"
   },
   "outputs": [],
   "source": [
    "idx = np.random.choice(np.arange(60000), 60000)\n",
    "TMC_test = TwoModalCompressed(dataset_MNIST_test, dataset_FMNIST_test)\n",
    "TMC = TwoModalCompressed(dataset_MNIST, dataset_FMNIST, idx[:n])\n",
    "TMC_v = TwoModalCompressed(dataset_MNIST, dataset_FMNIST, idx[n:(n+v)])\n",
    "TMC_u = TwoModalCompressed(dataset_MNIST, dataset_FMNIST, idx[(n+v):(n+v+N)])"
   ]
  },
  {
   "cell_type": "code",
   "execution_count": 12,
   "metadata": {
    "executionInfo": {
     "elapsed": 19,
     "status": "ok",
     "timestamp": 1670217404623,
     "user": {
      "displayName": "R N (nswa17)",
      "userId": "08662593655458358501"
     },
     "user_tz": 300
    },
    "id": "LZvpjJUUZhc3"
   },
   "outputs": [],
   "source": [
    "def get_accuracy(model, TMC_t=TMC_test):\n",
    "    similarity = model.sim(TMC_t.d1.view(TMC_t.d1.size(0), -1), TMC_t.d2.view(TMC_t.d2.size(0), -1), tau=1)\n",
    "    mnist_idx = torch.argmax(similarity, dim=1)\n",
    "    \n",
    "    return similarity, (1 - (TMC_t.t1 != TMC_t.t1[mnist_idx]).sum() / len(TMC_t))#.to('cpu').detach().numpy()"
   ]
  },
  {
   "cell_type": "code",
   "execution_count": 13,
   "metadata": {
    "executionInfo": {
     "elapsed": 19,
     "status": "ok",
     "timestamp": 1670217404624,
     "user": {
      "displayName": "R N (nswa17)",
      "userId": "08662593655458358501"
     },
     "user_tz": 300
    },
    "id": "0bi2aIXZl4zW"
   },
   "outputs": [],
   "source": [
    "num_epochs = 100\n",
    "tau = 1\n",
    "learning_rate = 2e-3\n",
    "batch_size = 64"
   ]
  },
  {
   "cell_type": "code",
   "execution_count": 14,
   "metadata": {
    "executionInfo": {
     "elapsed": 18,
     "status": "ok",
     "timestamp": 1670217404624,
     "user": {
      "displayName": "R N (nswa17)",
      "userId": "08662593655458358501"
     },
     "user_tz": 300
    },
    "id": "fTUI-TqftGZX"
   },
   "outputs": [],
   "source": [
    "dataloader = DataLoader(TMC, batch_size=batch_size, shuffle=True)\n",
    "\n",
    "train_loss = np.empty((num_epochs,))\n",
    "test_accuracy = np.empty((num_epochs,))\n",
    "\n",
    "MMCL0 = DualEncoders()\n",
    "optimizer = torch.optim.AdamW(MMCL0.parameters(), lr=learning_rate)"
   ]
  },
  {
   "cell_type": "markdown",
   "metadata": {},
   "source": [
    "## Train CLIP with paired data"
   ]
  },
  {
   "cell_type": "code",
   "execution_count": 15,
   "metadata": {
    "colab": {
     "base_uri": "https://localhost:8080/"
    },
    "executionInfo": {
     "elapsed": 61668,
     "status": "ok",
     "timestamp": 1670217466274,
     "user": {
      "displayName": "R N (nswa17)",
      "userId": "08662593655458358501"
     },
     "user_tz": 300
    },
    "id": "5GVEHj_FilNV",
    "outputId": "4df76ead-620d-4c11-9c82-d12914524b68"
   },
   "outputs": [
    {
     "name": "stdout",
     "output_type": "stream",
     "text": [
      "[Epoch 0] train loss: 2.131e+00, test accuracy 0.169\n",
      "[Epoch 1] train loss: 2.077e+00, test accuracy 0.174\n",
      "[Epoch 2] train loss: 2.017e+00, test accuracy 0.172\n",
      "[Epoch 3] train loss: 1.891e+00, test accuracy 0.205\n",
      "[Epoch 4] train loss: 1.798e+00, test accuracy 0.267\n",
      "[Epoch 5] train loss: 1.938e+00, test accuracy 0.330\n",
      "[Epoch 6] train loss: 1.698e+00, test accuracy 0.362\n",
      "[Epoch 7] train loss: 1.722e+00, test accuracy 0.372\n",
      "[Epoch 8] train loss: 1.769e+00, test accuracy 0.387\n",
      "[Epoch 9] train loss: 1.677e+00, test accuracy 0.398\n",
      "[Epoch 10] train loss: 1.808e+00, test accuracy 0.396\n",
      "[Epoch 11] train loss: 1.745e+00, test accuracy 0.406\n",
      "[Epoch 12] train loss: 1.708e+00, test accuracy 0.423\n",
      "[Epoch 13] train loss: 1.823e+00, test accuracy 0.440\n",
      "[Epoch 14] train loss: 1.799e+00, test accuracy 0.472\n",
      "[Epoch 15] train loss: 1.645e+00, test accuracy 0.464\n",
      "[Epoch 16] train loss: 1.670e+00, test accuracy 0.486\n",
      "[Epoch 17] train loss: 1.636e+00, test accuracy 0.500\n",
      "[Epoch 18] train loss: 1.610e+00, test accuracy 0.485\n",
      "[Epoch 19] train loss: 1.730e+00, test accuracy 0.503\n",
      "[Epoch 20] train loss: 1.692e+00, test accuracy 0.502\n",
      "[Epoch 21] train loss: 1.578e+00, test accuracy 0.506\n",
      "[Epoch 22] train loss: 1.749e+00, test accuracy 0.519\n",
      "[Epoch 23] train loss: 1.600e+00, test accuracy 0.522\n",
      "[Epoch 24] train loss: 1.565e+00, test accuracy 0.521\n",
      "[Epoch 25] train loss: 1.565e+00, test accuracy 0.538\n",
      "[Epoch 26] train loss: 1.562e+00, test accuracy 0.533\n",
      "[Epoch 27] train loss: 1.665e+00, test accuracy 0.536\n",
      "[Epoch 28] train loss: 1.583e+00, test accuracy 0.536\n",
      "[Epoch 29] train loss: 1.791e+00, test accuracy 0.552\n",
      "[Epoch 30] train loss: 1.681e+00, test accuracy 0.552\n",
      "[Epoch 31] train loss: 1.615e+00, test accuracy 0.543\n",
      "[Epoch 32] train loss: 1.998e+00, test accuracy 0.562\n",
      "[Epoch 33] train loss: 1.575e+00, test accuracy 0.551\n",
      "[Epoch 34] train loss: 1.786e+00, test accuracy 0.547\n",
      "[Epoch 35] train loss: 1.649e+00, test accuracy 0.545\n",
      "[Epoch 36] train loss: 1.597e+00, test accuracy 0.545\n",
      "[Epoch 37] train loss: 1.579e+00, test accuracy 0.546\n",
      "[Epoch 38] train loss: 1.475e+00, test accuracy 0.553\n",
      "[Epoch 39] train loss: 1.726e+00, test accuracy 0.559\n",
      "[Epoch 40] train loss: 1.665e+00, test accuracy 0.553\n",
      "[Epoch 41] train loss: 1.603e+00, test accuracy 0.555\n",
      "[Epoch 42] train loss: 1.770e+00, test accuracy 0.558\n",
      "[Epoch 43] train loss: 1.520e+00, test accuracy 0.545\n",
      "[Epoch 44] train loss: 1.582e+00, test accuracy 0.552\n",
      "[Epoch 45] train loss: 1.575e+00, test accuracy 0.561\n",
      "[Epoch 46] train loss: 1.743e+00, test accuracy 0.566\n",
      "[Epoch 47] train loss: 1.590e+00, test accuracy 0.552\n",
      "[Epoch 48] train loss: 1.638e+00, test accuracy 0.556\n",
      "[Epoch 49] train loss: 1.659e+00, test accuracy 0.561\n",
      "[Epoch 50] train loss: 1.789e+00, test accuracy 0.562\n",
      "[Epoch 51] train loss: 1.601e+00, test accuracy 0.559\n",
      "[Epoch 52] train loss: 1.612e+00, test accuracy 0.560\n",
      "[Epoch 53] train loss: 1.681e+00, test accuracy 0.561\n",
      "[Epoch 54] train loss: 1.508e+00, test accuracy 0.568\n",
      "[Epoch 55] train loss: 1.690e+00, test accuracy 0.580\n",
      "[Epoch 56] train loss: 1.484e+00, test accuracy 0.567\n",
      "[Epoch 57] train loss: 1.750e+00, test accuracy 0.569\n",
      "[Epoch 58] train loss: 1.565e+00, test accuracy 0.583\n",
      "[Epoch 59] train loss: 1.724e+00, test accuracy 0.578\n",
      "[Epoch 60] train loss: 1.551e+00, test accuracy 0.579\n",
      "[Epoch 61] train loss: 1.579e+00, test accuracy 0.575\n",
      "[Epoch 62] train loss: 1.562e+00, test accuracy 0.583\n",
      "[Epoch 63] train loss: 1.555e+00, test accuracy 0.577\n",
      "[Epoch 64] train loss: 1.633e+00, test accuracy 0.577\n",
      "[Epoch 65] train loss: 1.531e+00, test accuracy 0.589\n",
      "[Epoch 66] train loss: 1.650e+00, test accuracy 0.575\n",
      "[Epoch 67] train loss: 1.486e+00, test accuracy 0.562\n",
      "[Epoch 68] train loss: 1.505e+00, test accuracy 0.568\n",
      "[Epoch 69] train loss: 1.584e+00, test accuracy 0.578\n",
      "[Epoch 70] train loss: 1.611e+00, test accuracy 0.563\n",
      "[Epoch 71] train loss: 1.581e+00, test accuracy 0.567\n",
      "[Epoch 72] train loss: 1.761e+00, test accuracy 0.562\n",
      "[Epoch 73] train loss: 1.582e+00, test accuracy 0.572\n",
      "[Epoch 74] train loss: 1.571e+00, test accuracy 0.587\n",
      "[Epoch 75] train loss: 1.683e+00, test accuracy 0.569\n",
      "[Epoch 76] train loss: 1.874e+00, test accuracy 0.582\n",
      "[Epoch 77] train loss: 1.694e+00, test accuracy 0.580\n",
      "[Epoch 78] train loss: 1.660e+00, test accuracy 0.573\n",
      "[Epoch 79] train loss: 1.658e+00, test accuracy 0.558\n",
      "[Epoch 80] train loss: 1.634e+00, test accuracy 0.584\n",
      "[Epoch 81] train loss: 1.608e+00, test accuracy 0.577\n",
      "[Epoch 82] train loss: 1.518e+00, test accuracy 0.572\n",
      "[Epoch 83] train loss: 1.504e+00, test accuracy 0.582\n",
      "[Epoch 84] train loss: 1.532e+00, test accuracy 0.561\n",
      "[Epoch 85] train loss: 1.783e+00, test accuracy 0.569\n",
      "[Epoch 86] train loss: 1.531e+00, test accuracy 0.564\n",
      "[Epoch 87] train loss: 1.627e+00, test accuracy 0.570\n",
      "[Epoch 88] train loss: 1.586e+00, test accuracy 0.574\n",
      "[Epoch 89] train loss: 1.559e+00, test accuracy 0.582\n",
      "[Epoch 90] train loss: 1.556e+00, test accuracy 0.555\n",
      "[Epoch 91] train loss: 1.581e+00, test accuracy 0.571\n",
      "[Epoch 92] train loss: 1.545e+00, test accuracy 0.577\n",
      "[Epoch 93] train loss: 1.579e+00, test accuracy 0.545\n",
      "[Epoch 94] train loss: 1.491e+00, test accuracy 0.576\n",
      "[Epoch 95] train loss: 1.552e+00, test accuracy 0.578\n",
      "[Epoch 96] train loss: 1.485e+00, test accuracy 0.581\n",
      "[Epoch 97] train loss: 1.597e+00, test accuracy 0.562\n",
      "[Epoch 98] train loss: 1.574e+00, test accuracy 0.554\n",
      "[Epoch 99] train loss: 1.529e+00, test accuracy 0.580\n"
     ]
    }
   ],
   "source": [
    "for epoch in range(num_epochs):\n",
    "    for data in dataloader:\n",
    "        mnist, fmnist, _, _ = data\n",
    "        mnist = mnist.view(mnist.size(0), -1)\n",
    "        fmnist = fmnist.view(fmnist.size(0), -1)\n",
    "        \n",
    "        logits = MMCL0.sim(mnist, fmnist, tau=tau)\n",
    "\n",
    "        ## CLIP loss function\n",
    "        loss1 = - torch.diag(logits).sum() + torch.log(torch.exp(logits).sum(axis=1)).sum()\n",
    "        loss2 = - torch.diag(logits).sum() + torch.log(torch.exp(logits).sum(axis=0)).sum()\n",
    "\n",
    "        loss = (loss1 + loss2) / 2 / len(mnist)\n",
    "        loss.backward()\n",
    "        \n",
    "        optimizer.step()\n",
    "        optimizer.zero_grad()\n",
    "\n",
    "    accuracy = get_accuracy(MMCL0)[1]\n",
    "    print(f\"[Epoch {epoch}] train loss: {loss:.3e}, test accuracy {accuracy:.3f}\")\n",
    "    train_loss[epoch] = loss.detach().numpy()\n",
    "    test_accuracy[epoch] = accuracy.detach().numpy()\n",
    "\n",
    "torch.save(MMCL0, path+'MMCL0')"
   ]
  },
  {
   "cell_type": "code",
   "execution_count": 16,
   "metadata": {
    "executionInfo": {
     "elapsed": 12,
     "status": "ok",
     "timestamp": 1670217466275,
     "user": {
      "displayName": "R N (nswa17)",
      "userId": "08662593655458358501"
     },
     "user_tz": 300
    },
    "id": "TK8s3mRyeb7n"
   },
   "outputs": [],
   "source": [
    "num_epochs_u = 5\n",
    "loops = 20\n",
    "tau_u = 1\n",
    "learning_rate = 2e-5\n",
    "batch_size_u = 64\n",
    "eta = 1.1"
   ]
  },
  {
   "cell_type": "code",
   "execution_count": 17,
   "metadata": {
    "executionInfo": {
     "elapsed": 11,
     "status": "ok",
     "timestamp": 1670217466275,
     "user": {
      "displayName": "R N (nswa17)",
      "userId": "08662593655458358501"
     },
     "user_tz": 300
    },
    "id": "Ra-mGAYMs5rK"
   },
   "outputs": [],
   "source": [
    "dataloader_u = DataLoader(TMC_u, batch_size=batch_size_u, shuffle=True)\n",
    "\n",
    "repeated = np.empty((num_epochs_u*loops,))\n",
    "#repeated2 = np.empty((num_epochs_u*loops,))\n",
    "train_loss_u = np.empty((num_epochs_u*loops,))\n",
    "test_accuracy_u = np.empty((num_epochs_u*loops,))\n",
    "\n",
    "MMCL = torch.load(path+'MMCL0') # Initialize MMCL model based on MMCL with labeled data\n",
    "optimizer = torch.optim.AdamW(MMCL.parameters(), lr=learning_rate)"
   ]
  },
  {
   "cell_type": "markdown",
   "metadata": {},
   "source": [
    "## Train CLIP with unpaired data"
   ]
  },
  {
   "cell_type": "code",
   "execution_count": 18,
   "metadata": {
    "colab": {
     "base_uri": "https://localhost:8080/"
    },
    "executionInfo": {
     "elapsed": 358987,
     "status": "ok",
     "timestamp": 1670217825252,
     "user": {
      "displayName": "R N (nswa17)",
      "userId": "08662593655458358501"
     },
     "user_tz": 300
    },
    "id": "bkAbhf9CAG6L",
    "outputId": "f8627d80-6bfb-4bd6-d556-2b8fdc63c21e"
   },
   "outputs": [
    {
     "name": "stdout",
     "output_type": "stream",
     "text": [
      "[Epoch 0] train loss: 3.467726707458496, test accuracy 0.5908440351486206\n",
      "[Epoch 1] train loss: 3.254164218902588, test accuracy 0.5918658971786499\n",
      "[Epoch 2] train loss: 3.321059226989746, test accuracy 0.5941140651702881\n",
      "[Epoch 3] train loss: 3.2463302612304688, test accuracy 0.5961577892303467\n",
      "[Epoch 4] train loss: 3.2135353088378906, test accuracy 0.6008583307266235\n",
      "[Epoch 0] train loss: 3.3168535232543945, test accuracy 0.6031064987182617\n",
      "[Epoch 1] train loss: 3.2550222873687744, test accuracy 0.6038217544555664\n",
      "[Epoch 2] train loss: 3.243773937225342, test accuracy 0.6032086610794067\n",
      "[Epoch 3] train loss: 3.310218334197998, test accuracy 0.6072961091995239\n",
      "[Epoch 4] train loss: 3.323068380355835, test accuracy 0.6089311242103577\n",
      "[Epoch 0] train loss: 3.2849676609039307, test accuracy 0.6101573705673218\n",
      "[Epoch 1] train loss: 3.2106707096099854, test accuracy 0.6048436164855957\n",
      "[Epoch 2] train loss: 3.338115930557251, test accuracy 0.604230523109436\n",
      "[Epoch 3] train loss: 3.2359700202941895, test accuracy 0.6047414541244507\n",
      "[Epoch 4] train loss: 3.1482796669006348, test accuracy 0.6071939468383789\n",
      "[Epoch 0] train loss: 3.3982534408569336, test accuracy 0.6086245775222778\n",
      "[Epoch 1] train loss: 3.2160868644714355, test accuracy 0.6073983311653137\n",
      "[Epoch 2] train loss: 3.270306348800659, test accuracy 0.6064786314964294\n",
      "[Epoch 3] train loss: 3.190019130706787, test accuracy 0.6094420552253723\n",
      "[Epoch 4] train loss: 3.1796085834503174, test accuracy 0.6070917844772339\n",
      "[Epoch 0] train loss: 3.368748188018799, test accuracy 0.6019824147224426\n",
      "[Epoch 1] train loss: 3.298707962036133, test accuracy 0.6089311242103577\n",
      "[Epoch 2] train loss: 3.34837007522583, test accuracy 0.6124054789543152\n",
      "[Epoch 3] train loss: 3.225637912750244, test accuracy 0.6116901636123657\n",
      "[Epoch 4] train loss: 3.3605480194091797, test accuracy 0.6197628974914551\n",
      "[Epoch 0] train loss: 3.1955795288085938, test accuracy 0.6218066215515137\n",
      "[Epoch 1] train loss: 3.175872802734375, test accuracy 0.6208869814872742\n",
      "[Epoch 2] train loss: 3.159533977508545, test accuracy 0.6178213357925415\n",
      "[Epoch 3] train loss: 3.164503335952759, test accuracy 0.6167994737625122\n",
      "[Epoch 4] train loss: 3.259042263031006, test accuracy 0.6180257797241211\n",
      "[Epoch 0] train loss: 3.187634229660034, test accuracy 0.6179235577583313\n",
      "[Epoch 1] train loss: 3.218475818634033, test accuracy 0.6234416365623474\n",
      "[Epoch 2] train loss: 3.292243003845215, test accuracy 0.6267116069793701\n",
      "[Epoch 3] train loss: 3.2282907962799072, test accuracy 0.6235438585281372\n",
      "[Epoch 4] train loss: 3.127324342727661, test accuracy 0.6260985136032104\n",
      "[Epoch 0] train loss: 3.3031702041625977, test accuracy 0.6273247599601746\n",
      "[Epoch 1] train loss: 3.2665717601776123, test accuracy 0.6275291442871094\n",
      "[Epoch 2] train loss: 3.237184762954712, test accuracy 0.6273247599601746\n",
      "[Epoch 3] train loss: 3.3752408027648926, test accuracy 0.6267116069793701\n",
      "[Epoch 4] train loss: 3.342911958694458, test accuracy 0.6265072822570801\n",
      "[Epoch 0] train loss: 3.1241726875305176, test accuracy 0.6260985136032104\n",
      "[Epoch 1] train loss: 3.2375946044921875, test accuracy 0.6241569519042969\n",
      "[Epoch 2] train loss: 3.2226686477661133, test accuracy 0.6277334690093994\n",
      "[Epoch 3] train loss: 3.2340683937072754, test accuracy 0.6307991147041321\n",
      "[Epoch 4] train loss: 3.2799429893493652, test accuracy 0.6285510063171387\n",
      "[Epoch 0] train loss: 3.134976863861084, test accuracy 0.6341712474822998\n",
      "[Epoch 1] train loss: 3.340437889099121, test accuracy 0.6347844004631042\n",
      "[Epoch 2] train loss: 3.238873243331909, test accuracy 0.6341712474822998\n",
      "[Epoch 3] train loss: 3.2110424041748047, test accuracy 0.6375434398651123\n",
      "[Epoch 4] train loss: 3.2205700874328613, test accuracy 0.6369303464889526\n",
      "[Epoch 0] train loss: 3.23618221282959, test accuracy 0.6389740705490112\n",
      "[Epoch 1] train loss: 3.136763095855713, test accuracy 0.6396893262863159\n",
      "[Epoch 2] train loss: 3.1112499237060547, test accuracy 0.6400980949401855\n",
      "[Epoch 3] train loss: 3.233628273010254, test accuracy 0.6406090259552002\n",
      "[Epoch 4] train loss: 3.2122864723205566, test accuracy 0.6438789963722229\n",
      "[Epoch 0] train loss: 3.092735528945923, test accuracy 0.6357040405273438\n",
      "[Epoch 1] train loss: 3.1141562461853027, test accuracy 0.6335581541061401\n",
      "[Epoch 2] train loss: 3.256002902984619, test accuracy 0.6304925680160522\n",
      "[Epoch 3] train loss: 3.1274619102478027, test accuracy 0.6278356909751892\n",
      "[Epoch 4] train loss: 3.2080812454223633, test accuracy 0.6302881240844727\n",
      "[Epoch 0] train loss: 3.034219264984131, test accuracy 0.6314122080802917\n",
      "[Epoch 1] train loss: 3.2965636253356934, test accuracy 0.6303903460502625\n",
      "[Epoch 2] train loss: 3.1133904457092285, test accuracy 0.6258941292762756\n",
      "[Epoch 3] train loss: 3.249706506729126, test accuracy 0.6260985136032104\n",
      "[Epoch 4] train loss: 3.1118900775909424, test accuracy 0.6330472230911255\n",
      "[Epoch 0] train loss: 3.204197406768799, test accuracy 0.6275291442871094\n",
      "[Epoch 1] train loss: 3.276031017303467, test accuracy 0.6274269223213196\n",
      "[Epoch 2] train loss: 3.1436991691589355, test accuracy 0.6239526271820068\n",
      "[Epoch 3] train loss: 3.1295461654663086, test accuracy 0.6285510063171387\n",
      "[Epoch 4] train loss: 3.1679494380950928, test accuracy 0.625383198261261\n",
      "[Epoch 0] train loss: 3.1868326663970947, test accuracy 0.6228285431861877\n",
      "[Epoch 1] train loss: 3.293822765350342, test accuracy 0.6249744892120361\n",
      "[Epoch 2] train loss: 3.2596969604492188, test accuracy 0.6208869814872742\n",
      "[Epoch 3] train loss: 3.2540688514709473, test accuracy 0.6230329275131226\n",
      "[Epoch 4] train loss: 3.1866302490234375, test accuracy 0.6217044591903687\n",
      "[Epoch 0] train loss: 3.047715425491333, test accuracy 0.6213979125022888\n",
      "[Epoch 1] train loss: 3.097916603088379, test accuracy 0.6240547895431519\n",
      "[Epoch 2] train loss: 3.2503111362457275, test accuracy 0.621193528175354\n",
      "[Epoch 3] train loss: 3.272603988647461, test accuracy 0.6215001344680786\n",
      "[Epoch 4] train loss: 3.1668858528137207, test accuracy 0.6240547895431519\n",
      "[Epoch 0] train loss: 3.199939250946045, test accuracy 0.61945641040802\n",
      "[Epoch 1] train loss: 3.3331809043884277, test accuracy 0.6217044591903687\n",
      "[Epoch 2] train loss: 3.198735237121582, test accuracy 0.6266094446182251\n",
      "[Epoch 3] train loss: 3.1591830253601074, test accuracy 0.6248722672462463\n",
      "[Epoch 4] train loss: 3.197490692138672, test accuracy 0.6223175525665283\n",
      "[Epoch 0] train loss: 3.1990010738372803, test accuracy 0.6177191734313965\n",
      "[Epoch 1] train loss: 3.082181692123413, test accuracy 0.622726321220398\n",
      "[Epoch 2] train loss: 3.148449420928955, test accuracy 0.6199673414230347\n",
      "[Epoch 3] train loss: 3.1898975372314453, test accuracy 0.628142237663269\n",
      "[Epoch 4] train loss: 3.2432239055633545, test accuracy 0.6271203756332397\n",
      "[Epoch 0] train loss: 3.3157920837402344, test accuracy 0.6252809762954712\n",
      "[Epoch 1] train loss: 3.1084089279174805, test accuracy 0.6287553310394287\n",
      "[Epoch 2] train loss: 3.116933822631836, test accuracy 0.6368281245231628\n",
      "[Epoch 3] train loss: 3.062084197998047, test accuracy 0.638156533241272\n",
      "[Epoch 4] train loss: 3.250901460647583, test accuracy 0.6413243412971497\n",
      "[Epoch 0] train loss: 3.168917179107666, test accuracy 0.638054370880127\n",
      "[Epoch 1] train loss: 3.08603572845459, test accuracy 0.6360106468200684\n",
      "[Epoch 2] train loss: 3.238075017929077, test accuracy 0.6396893262863159\n",
      "[Epoch 3] train loss: 3.162170171737671, test accuracy 0.6407111883163452\n",
      "[Epoch 4] train loss: 3.2569282054901123, test accuracy 0.636419415473938\n"
     ]
    }
   ],
   "source": [
    "torch.save(MMCL, path+'MMCL_best')\n",
    "best_validation_accuracy = get_accuracy(MMCL0, TMC_v)[1]\n",
    "for l in range(loops):\n",
    "    MMCL_best = torch.load(path+'MMCL_best') # Load the best MMCL model in history\n",
    "    for epoch in range(num_epochs_u):\n",
    "        c = 0\n",
    "        #c2 = 0\n",
    "        t = 0\n",
    "        #s = 0\n",
    "        for data in dataloader_u:\n",
    "            mnist2d, fmnist2d, t1, t2 = data\n",
    "            mnist = mnist2d.view(mnist2d.size(0), -1)\n",
    "            fmnist = fmnist2d.view(fmnist2d.size(0), -1)\n",
    "            m = len(mnist2d)\n",
    "\n",
    "            logits0 = MMCL_best.sim(mnist, fmnist, tau=tau).detach()\n",
    "            \n",
    "            optimizer.zero_grad()\n",
    "            logits = MMCL.sim(mnist, fmnist, tau=tau)\n",
    "            \n",
    "            idx1 = torch.argmax(logits0, dim=0)\n",
    "            idx2 = torch.argmax(logits0, dim=1)\n",
    "            \n",
    "            logits1d = logits.view(m**2)\n",
    "\n",
    "            v1 = logits1d[idx1 + torch.arange(m)*m]\n",
    "            v2 = logits1d[idx2*m + torch.arange(m)]\n",
    "        \n",
    "            loss1 = - v1.mean() + torch.log(torch.exp(logits).sum(axis=1)).mean()\n",
    "            loss2 = - v2.mean() + torch.log(torch.exp(logits).sum(axis=0)).mean()\n",
    "            loss = (loss1 + loss2) / 2\n",
    "\n",
    "            loss.backward()\n",
    "            \n",
    "            optimizer.step()\n",
    "\n",
    "            _, counts = np.unique(idx1, return_counts=True)\n",
    "            c += (counts > 1).sum()\n",
    "            t += m\n",
    "            \n",
    "        repeated[epoch+l*num_epochs_u] = c / t\n",
    "        accuracy = get_accuracy(MMCL)[1]\n",
    "        print(f\"[Epoch {epoch}] train loss: {loss}, test accuracy {accuracy}\")\n",
    "        train_loss_u[epoch+l*num_epochs_u] = loss.detach().numpy()\n",
    "        test_accuracy_u[epoch+l*num_epochs_u] = accuracy.detach().numpy()\n",
    "    current_validation_accuracy = get_accuracy(MMCL, TMC_v)[1]\n",
    "    if current_validation_accuracy > best_validation_accuracy * eta:\n",
    "        best_validation_accuracy = current_validation_accuracy\n",
    "        torch.save(MMCL, path+'MMCL_best') # Save the current MMCL model if it's validation accuracy is best in history"
   ]
  },
  {
   "cell_type": "code",
   "execution_count": 19,
   "metadata": {
    "executionInfo": {
     "elapsed": 20,
     "status": "ok",
     "timestamp": 1670217825253,
     "user": {
      "displayName": "R N (nswa17)",
      "userId": "08662593655458358501"
     },
     "user_tz": 300
    },
    "id": "Vo9NTiCPtCHr"
   },
   "outputs": [],
   "source": [
    "train_loss_u_sup = np.empty((num_epochs_u*loops,))\n",
    "test_accuracy_u_sup = np.empty((num_epochs_u*loops,))\n",
    "\n",
    "MMCL1 = torch.load(path+'MMCL0') # Initialize MMCL model based on MMCL with labeled data\n",
    "optimizer = torch.optim.AdamW(MMCL1.parameters(), lr=learning_rate)"
   ]
  },
  {
   "cell_type": "markdown",
   "metadata": {},
   "source": [
    "## Train oracle MMCL with the information of association in unpaired data"
   ]
  },
  {
   "cell_type": "code",
   "execution_count": 20,
   "metadata": {
    "colab": {
     "base_uri": "https://localhost:8080/"
    },
    "executionInfo": {
     "elapsed": 289034,
     "status": "ok",
     "timestamp": 1670218114280,
     "user": {
      "displayName": "R N (nswa17)",
      "userId": "08662593655458358501"
     },
     "user_tz": 300
    },
    "id": "UXeB8nycy4B0",
    "outputId": "729aa9ee-6aff-47c2-c417-66a267a24158"
   },
   "outputs": [
    {
     "name": "stdout",
     "output_type": "stream",
     "text": [
      "[Epoch 0] train loss: 3.317e+00, test accuracy 0.603\n",
      "[Epoch 1] train loss: 3.239e+00, test accuracy 0.609\n",
      "[Epoch 2] train loss: 3.197e+00, test accuracy 0.621\n",
      "[Epoch 3] train loss: 3.232e+00, test accuracy 0.622\n",
      "[Epoch 4] train loss: 3.110e+00, test accuracy 0.632\n",
      "[Epoch 5] train loss: 3.174e+00, test accuracy 0.639\n",
      "[Epoch 6] train loss: 3.132e+00, test accuracy 0.645\n",
      "[Epoch 7] train loss: 3.126e+00, test accuracy 0.648\n",
      "[Epoch 8] train loss: 3.158e+00, test accuracy 0.650\n",
      "[Epoch 9] train loss: 3.126e+00, test accuracy 0.650\n",
      "[Epoch 10] train loss: 3.171e+00, test accuracy 0.649\n",
      "[Epoch 11] train loss: 3.160e+00, test accuracy 0.655\n",
      "[Epoch 12] train loss: 3.176e+00, test accuracy 0.658\n",
      "[Epoch 13] train loss: 3.118e+00, test accuracy 0.660\n",
      "[Epoch 14] train loss: 3.154e+00, test accuracy 0.663\n",
      "[Epoch 15] train loss: 3.073e+00, test accuracy 0.663\n",
      "[Epoch 16] train loss: 3.282e+00, test accuracy 0.658\n",
      "[Epoch 17] train loss: 3.142e+00, test accuracy 0.654\n",
      "[Epoch 18] train loss: 3.145e+00, test accuracy 0.656\n",
      "[Epoch 19] train loss: 3.114e+00, test accuracy 0.655\n",
      "[Epoch 20] train loss: 3.149e+00, test accuracy 0.651\n",
      "[Epoch 21] train loss: 3.030e+00, test accuracy 0.653\n",
      "[Epoch 22] train loss: 3.179e+00, test accuracy 0.650\n",
      "[Epoch 23] train loss: 3.083e+00, test accuracy 0.654\n",
      "[Epoch 24] train loss: 3.103e+00, test accuracy 0.653\n",
      "[Epoch 25] train loss: 3.194e+00, test accuracy 0.651\n",
      "[Epoch 26] train loss: 3.062e+00, test accuracy 0.651\n",
      "[Epoch 27] train loss: 3.079e+00, test accuracy 0.655\n",
      "[Epoch 28] train loss: 3.079e+00, test accuracy 0.652\n",
      "[Epoch 29] train loss: 3.090e+00, test accuracy 0.654\n",
      "[Epoch 30] train loss: 3.087e+00, test accuracy 0.651\n",
      "[Epoch 31] train loss: 3.068e+00, test accuracy 0.653\n",
      "[Epoch 32] train loss: 3.181e+00, test accuracy 0.653\n",
      "[Epoch 33] train loss: 3.141e+00, test accuracy 0.655\n",
      "[Epoch 34] train loss: 3.056e+00, test accuracy 0.656\n",
      "[Epoch 35] train loss: 3.139e+00, test accuracy 0.656\n",
      "[Epoch 36] train loss: 3.101e+00, test accuracy 0.658\n",
      "[Epoch 37] train loss: 3.097e+00, test accuracy 0.661\n",
      "[Epoch 38] train loss: 3.160e+00, test accuracy 0.662\n",
      "[Epoch 39] train loss: 3.113e+00, test accuracy 0.662\n",
      "[Epoch 40] train loss: 3.055e+00, test accuracy 0.664\n",
      "[Epoch 41] train loss: 3.109e+00, test accuracy 0.665\n",
      "[Epoch 42] train loss: 3.152e+00, test accuracy 0.665\n",
      "[Epoch 43] train loss: 3.169e+00, test accuracy 0.667\n",
      "[Epoch 44] train loss: 3.151e+00, test accuracy 0.671\n",
      "[Epoch 45] train loss: 3.053e+00, test accuracy 0.672\n",
      "[Epoch 46] train loss: 3.133e+00, test accuracy 0.670\n",
      "[Epoch 47] train loss: 3.038e+00, test accuracy 0.672\n",
      "[Epoch 48] train loss: 3.071e+00, test accuracy 0.673\n",
      "[Epoch 49] train loss: 3.067e+00, test accuracy 0.678\n",
      "[Epoch 50] train loss: 3.053e+00, test accuracy 0.673\n",
      "[Epoch 51] train loss: 3.119e+00, test accuracy 0.674\n",
      "[Epoch 52] train loss: 3.158e+00, test accuracy 0.674\n",
      "[Epoch 53] train loss: 3.123e+00, test accuracy 0.670\n",
      "[Epoch 54] train loss: 3.130e+00, test accuracy 0.672\n",
      "[Epoch 55] train loss: 3.027e+00, test accuracy 0.671\n",
      "[Epoch 56] train loss: 3.012e+00, test accuracy 0.675\n",
      "[Epoch 57] train loss: 3.083e+00, test accuracy 0.672\n",
      "[Epoch 58] train loss: 3.124e+00, test accuracy 0.674\n",
      "[Epoch 59] train loss: 3.152e+00, test accuracy 0.677\n",
      "[Epoch 60] train loss: 3.062e+00, test accuracy 0.677\n",
      "[Epoch 61] train loss: 3.076e+00, test accuracy 0.677\n",
      "[Epoch 62] train loss: 3.117e+00, test accuracy 0.679\n",
      "[Epoch 63] train loss: 3.064e+00, test accuracy 0.678\n",
      "[Epoch 64] train loss: 3.076e+00, test accuracy 0.684\n",
      "[Epoch 65] train loss: 3.105e+00, test accuracy 0.685\n",
      "[Epoch 66] train loss: 3.133e+00, test accuracy 0.692\n",
      "[Epoch 67] train loss: 3.072e+00, test accuracy 0.701\n",
      "[Epoch 68] train loss: 3.024e+00, test accuracy 0.699\n",
      "[Epoch 69] train loss: 3.069e+00, test accuracy 0.696\n",
      "[Epoch 70] train loss: 3.071e+00, test accuracy 0.698\n",
      "[Epoch 71] train loss: 3.108e+00, test accuracy 0.699\n",
      "[Epoch 72] train loss: 3.096e+00, test accuracy 0.695\n",
      "[Epoch 73] train loss: 3.144e+00, test accuracy 0.697\n",
      "[Epoch 74] train loss: 3.102e+00, test accuracy 0.701\n",
      "[Epoch 75] train loss: 3.037e+00, test accuracy 0.702\n",
      "[Epoch 76] train loss: 3.059e+00, test accuracy 0.703\n",
      "[Epoch 77] train loss: 3.111e+00, test accuracy 0.700\n",
      "[Epoch 78] train loss: 3.123e+00, test accuracy 0.706\n",
      "[Epoch 79] train loss: 3.069e+00, test accuracy 0.704\n",
      "[Epoch 80] train loss: 3.032e+00, test accuracy 0.703\n",
      "[Epoch 81] train loss: 3.106e+00, test accuracy 0.704\n",
      "[Epoch 82] train loss: 3.042e+00, test accuracy 0.712\n",
      "[Epoch 83] train loss: 3.091e+00, test accuracy 0.715\n",
      "[Epoch 84] train loss: 3.105e+00, test accuracy 0.718\n",
      "[Epoch 85] train loss: 3.133e+00, test accuracy 0.717\n",
      "[Epoch 86] train loss: 3.089e+00, test accuracy 0.722\n",
      "[Epoch 87] train loss: 3.012e+00, test accuracy 0.717\n",
      "[Epoch 88] train loss: 3.056e+00, test accuracy 0.722\n",
      "[Epoch 89] train loss: 3.013e+00, test accuracy 0.726\n",
      "[Epoch 90] train loss: 3.038e+00, test accuracy 0.723\n",
      "[Epoch 91] train loss: 3.087e+00, test accuracy 0.722\n",
      "[Epoch 92] train loss: 3.023e+00, test accuracy 0.725\n",
      "[Epoch 93] train loss: 3.007e+00, test accuracy 0.723\n",
      "[Epoch 94] train loss: 3.197e+00, test accuracy 0.726\n",
      "[Epoch 95] train loss: 3.073e+00, test accuracy 0.727\n",
      "[Epoch 96] train loss: 3.155e+00, test accuracy 0.721\n",
      "[Epoch 97] train loss: 3.093e+00, test accuracy 0.722\n",
      "[Epoch 98] train loss: 3.067e+00, test accuracy 0.725\n",
      "[Epoch 99] train loss: 3.158e+00, test accuracy 0.720\n"
     ]
    }
   ],
   "source": [
    "for epoch in range(num_epochs_u*loops):\n",
    "    for data in dataloader_u:\n",
    "        mnist, fmnist, _, _ = data\n",
    "        mnist = mnist.view(mnist.size(0), -1)\n",
    "        fmnist = fmnist.view(fmnist.size(0), -1)\n",
    "        \n",
    "        logits = MMCL1.sim(mnist, fmnist, tau=tau)\n",
    "\n",
    "        ## CLIP loss function\n",
    "        loss1 = - torch.diag(logits).sum() + torch.log(torch.exp(logits).sum(axis=1)).sum()\n",
    "        loss2 = - torch.diag(logits).sum() + torch.log(torch.exp(logits).sum(axis=0)).sum()\n",
    "\n",
    "        loss = (loss1 + loss2) / 2 / len(mnist)\n",
    "        loss.backward()\n",
    "        \n",
    "        optimizer.step()\n",
    "        optimizer.zero_grad()\n",
    "\n",
    "    accuracy = get_accuracy(MMCL1)[1]\n",
    "    print(f\"[Epoch {epoch}] train loss: {loss:.3e}, test accuracy {accuracy:.3f}\")\n",
    "    train_loss_u_sup[epoch] = loss.detach().numpy()\n",
    "    test_accuracy_u_sup[epoch] = accuracy.detach().numpy()\n",
    "\n",
    "torch.save(MMCL1, path+'MMCL1')"
   ]
  },
  {
   "cell_type": "markdown",
   "metadata": {},
   "source": [
    "## Plot the result"
   ]
  },
  {
   "cell_type": "code",
   "execution_count": 21,
   "metadata": {
    "colab": {
     "base_uri": "https://localhost:8080/",
     "height": 295
    },
    "executionInfo": {
     "elapsed": 2017,
     "status": "ok",
     "timestamp": 1670218116291,
     "user": {
      "displayName": "R N (nswa17)",
      "userId": "08662593655458358501"
     },
     "user_tz": 300
    },
    "id": "-VEE2mn0h0Pe",
    "outputId": "c2954a7a-a7a1-41ff-9219-7c7eb8351ffd"
   },
   "outputs": [
    {
     "data": {
      "image/png": "[encoded data removed]",
      "text/plain": [
       "<Figure size 432x288 with 1 Axes>"
      ]
     },
     "metadata": {
      "needs_background": "light"
     },
     "output_type": "display_data"
    }
   ],
   "source": [
    "plt.plot(np.arange(num_epochs), test_accuracy, color=\"gray\")\n",
    "plt.plot(num_epochs+np.arange(num_epochs_u*loops), test_accuracy_u, label=f\"n={n}, N={N}\")\n",
    "plt.plot(num_epochs+np.arange(num_epochs_u*loops), test_accuracy_u_sup, label=f\"n={n}+{N}\")\n",
    "plt.axhline(np.max(test_accuracy), linewidth=0.5, color='black')\n",
    "plt.axhline(np.max(test_accuracy_u), linewidth=0.5, color='black')\n",
    "plt.axhline(np.max(test_accuracy_u_sup), linewidth=0.5, color='black')\n",
    "plt.title(\"Test Accuracy\")\n",
    "plt.xlabel(\"Epochs\")\n",
    "plt.ylim(0, np.max(np.hstack([test_accuracy, test_accuracy_u, test_accuracy_u_sup]))*1.1)\n",
    "plt.xlim(0, num_epochs+num_epochs_u*loops)\n",
    "plt.vlines(num_epochs, 0, 10)\n",
    "plt.legend()\n",
    "plt.savefig(path+\"Test Accuracy2c\", dpi=600)"
   ]
  },
  {
   "cell_type": "code",
   "execution_count": 22,
   "metadata": {
    "executionInfo": {
     "elapsed": 28,
     "status": "ok",
     "timestamp": 1670218116292,
     "user": {
      "displayName": "R N (nswa17)",
      "userId": "08662593655458358501"
     },
     "user_tz": 300
    },
    "id": "ak2Qcpyh9Jp9"
   },
   "outputs": [],
   "source": [
    "np.save(path+'repeated.npy', repeated)"
   ]
  },
  {
   "cell_type": "code",
   "execution_count": 23,
   "metadata": {
    "executionInfo": {
     "elapsed": 28,
     "status": "ok",
     "timestamp": 1670218116292,
     "user": {
      "displayName": "R N (nswa17)",
      "userId": "08662593655458358501"
     },
     "user_tz": 300
    },
    "id": "Yvv2x0um9Np7"
   },
   "outputs": [],
   "source": [
    "repeated = np.load(path+'repeated.npy')"
   ]
  },
  {
   "cell_type": "code",
   "execution_count": 24,
   "metadata": {
    "colab": {
     "base_uri": "https://localhost:8080/"
    },
    "executionInfo": {
     "elapsed": 27,
     "status": "ok",
     "timestamp": 1670218116292,
     "user": {
      "displayName": "R N (nswa17)",
      "userId": "08662593655458358501"
     },
     "user_tz": 300
    },
    "id": "CaXR76AZO-Pi",
    "outputId": "291b9b8f-ccab-4817-9546-677613af32b1"
   },
   "outputs": [
    {
     "data": {
      "text/plain": [
       "0.25444010259764854"
      ]
     },
     "execution_count": 24,
     "metadata": {},
     "output_type": "execute_result"
    }
   ],
   "source": [
    "repeated.mean()"
   ]
  },
  {
   "cell_type": "code",
   "execution_count": 24,
   "metadata": {
    "executionInfo": {
     "elapsed": 23,
     "status": "ok",
     "timestamp": 1670218116293,
     "user": {
      "displayName": "R N (nswa17)",
      "userId": "08662593655458358501"
     },
     "user_tz": 300
    },
    "id": "zcQc50CmPBpu"
   },
   "outputs": [],
   "source": []
  }
 ],
 "metadata": {
  "colab": {
   "authorship_tag": "ABX9TyPULKhtEa7U75LHjdNoYNei",
   "mount_file_id": "1xlxNxM-hHSpUFZnx3BTut45nUbAwLveP",
   "provenance": [
    {
     "file_id": "1mQaWwYJaPRxU1klLn8kG7-O3RyPuCSmF",
     "timestamp": 1670217237112
    },
    {
     "file_id": "1jd-4KQFsdd-tzFL6psa9orBhi2dAYpNe",
     "timestamp": 1670214746068
    },
    {
     "file_id": "1BypIck6Q_5CyJwSbWL-wEHEjdaWhIdi5",
     "timestamp": 1667526516081
    },
    {
     "file_id": "1KS-gRFY6K6dy08M6S3FTDs_CdiBYTbiP",
     "timestamp": 1667485480938
    },
    {
     "file_id": "11EecUgQ8dSknO22TpETSbFrLdMa8ECNP",
     "timestamp": 1666922526698
    },
    {
     "file_id": "1q7GgLb2_FPZ0DrXmAlwF7FNzkE2MPnwG",
     "timestamp": 1666898851720
    },
    {
     "file_id": "1PnrlgMUQyFCSmUBpN0tS62U4SFOIUTdh",
     "timestamp": 1665252738000
    },
    {
     "file_id": "1qi5DA-tIWHXoaSL8Qp2KM-M_BWqVRlCk",
     "timestamp": 1665179120700
    },
    {
     "file_id": "1DF1c7__2dEGZJ8COTVVtXWCeo2h5rXFb",
     "timestamp": 1665176560333
    },
    {
     "file_id": "1q7YroXckfTwPpSRhtugdlYzIRVsU492f",
     "timestamp": 1664989974661
    },
    {
     "file_id": "19Pl98ucy6AFa2YlLSSJJviyRmB8aqEhF",
     "timestamp": 1664849672715
    },
    {
     "file_id": "19-KABEBG-hQ8EGYiCMx0fe41J5PXfqya",
     "timestamp": 1664830778720
    },
    {
     "file_id": "1xlxNxM-hHSpUFZnx3BTut45nUbAwLveP",
     "timestamp": 1664763982791
    },
    {
     "file_id": "1WTP_wR_lLs2CxgU-Sb5yV2ba-_OhTsg_",
     "timestamp": 1664747122962
    }
   ]
  },
  "kernelspec": {
   "display_name": "Python 3 (ipykernel)",
   "language": "python",
   "name": "python3"
  },
  "language_info": {
   "codemirror_mode": {
    "name": "ipython",
    "version": 3
   },
   "file_extension": ".py",
   "mimetype": "text/x-python",
   "name": "python",
   "nbconvert_exporter": "python",
   "pygments_lexer": "ipython3",
   "version": "3.9.13"
  },
  "vscode": {
   "interpreter": {
    "hash": "6e1e5f778fa21f98eeb13efa704c75cef81f45b7dbc097ac50ce2a4cd235d8cc"
   }
  }
 },
 "nbformat": 4,
 "nbformat_minor": 4
}
