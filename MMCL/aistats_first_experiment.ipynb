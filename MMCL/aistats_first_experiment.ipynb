{
  "nbformat": 4,
  "nbformat_minor": 0,
  "metadata": {
    "colab": {
      "provenance": []
    },
    "kernelspec": {
      "name": "python3",
      "display_name": "Python 3"
    },
    "language_info": {
      "name": "python"
    }
  },
  "cells": [
    {
      "cell_type": "code",
      "execution_count": 7,
      "metadata": {
        "colab": {
          "base_uri": "https://localhost:8080/"
        },
        "id": "zSXw241eRkhs",
        "outputId": "20547095-7d93-42a8-b0a3-e28a0929172e"
      },
      "outputs": [
        {
          "output_type": "execute_result",
          "data": {
            "text/plain": [
              "<torch._C.Generator at 0x7f060790e7b0>"
            ]
          },
          "metadata": {},
          "execution_count": 7
        }
      ],
      "source": [
        "import numpy as np\n",
        "import matplotlib.pyplot as plt\n",
        "import torch\n",
        "import torchvision.transforms as transforms\n",
        "from torch.utils.data import DataLoader, Dataset\n",
        "import torch.nn as nn\n",
        "import torch.nn.functional as F\n",
        "import numpy as np\n",
        "from scipy.stats import ortho_group\n",
        "\n",
        "device = torch.device('cpu')\n",
        "#device = torch.device('cuda')\n",
        "#torch.cuda.get_device_name(device)\n",
        "torch.manual_seed(0)"
      ]
    },
    {
      "cell_type": "code",
      "source": [
        "def generate_data(U1, U2, n, snr=0.1):\n",
        "    r = U1.shape[1]\n",
        "    d1 = U1.shape[0]\n",
        "    d2 = U2.shape[0]\n",
        "    z = np.random.normal(0, 1, size=(r, n))\n",
        "    xi1 = np.random.normal(0, snr, size=(d1, n))\n",
        "    xi2 = np.random.normal(0, snr, size=(d2, n))\n",
        "    data1 = U1 @ z + xi1\n",
        "    data2 = U2 @ z + xi2\n",
        "    data1 = torch.tensor(data1.T, dtype=torch.float)\n",
        "    data2 = torch.tensor(data2.T, dtype=torch.float)\n",
        "    return data1, data2"
      ],
      "metadata": {
        "id": "-lABqcEhRpeW"
      },
      "execution_count": 8,
      "outputs": []
    },
    {
      "cell_type": "code",
      "source": [
        "class Encoder(nn.Module):\n",
        "    def __init__(self, input_dim, output_dim):\n",
        "        super().__init__()\n",
        "        self.encoder = nn.Sequential(\n",
        "            nn.Linear(input_dim, output_dim, bias=False)\n",
        "        )\n",
        "  \n",
        "    def forward(self, x):\n",
        "        latent = self.encoder(x)\n",
        "        #x = self.decoder(latent)\n",
        "        return latent\n",
        "\n",
        "class DualEncoders(nn.Module):\n",
        "    def __init__(self, d1, d2, r, e1=None, e2=None):\n",
        "        super().__init__()\n",
        "        self.e1 = Encoder(d1, r) if e1 is None else e1\n",
        "        self.e2 = Encoder(d2, r) if e2 is None else e2\n",
        "\n",
        "    def sim(self, x1, x2, tau=1):\n",
        "        latent1, latent2 = self.e1(x1), self.e2(x2)\n",
        "        latent1, latent2 = F.normalize(latent1), F.normalize(latent2)\n",
        "        return latent1 @ latent2.T / tau\n",
        "        \n",
        "    def forward(self, x1, x2):\n",
        "        x1_latent = self.e1(x1)\n",
        "        x2_latent = self.e2(x2)\n",
        "        return x1_latent, x2_latent"
      ],
      "metadata": {
        "id": "OiUsi1mcRq1r"
      },
      "execution_count": 9,
      "outputs": []
    },
    {
      "cell_type": "code",
      "source": [
        "num_epochs = 100\n",
        "batch_size = 50\n",
        "learning_rate = 2e-3\n",
        "tau = 1\n",
        "snr = 0.3"
      ],
      "metadata": {
        "id": "WW4whQQJRsaU"
      },
      "execution_count": 10,
      "outputs": []
    },
    {
      "cell_type": "code",
      "source": [
        "def weakly_supervised_learning(n,N,snr,ensure_level):\n",
        "    sup_test_accuracy = 0\n",
        "    unsup_test_accuracy = 0\n",
        "    for i_ensure in range(ensure_level):\n",
        "        d1 = 40\n",
        "        d2 = 39\n",
        "        r = 10\n",
        "        n_test = 10000\n",
        "        U1 = ortho_group.rvs(d1)[:,:r]\n",
        "        U2 = ortho_group.rvs(d2)[:,:r]\n",
        "\n",
        "        data1, data2 = generate_data(U1, U2, n, snr)\n",
        "        data1_u, data2_u = generate_data(U1, U2, N, snr)\n",
        "        data1_test, data2_test = generate_data(U1, U2, n_test, snr)\n",
        "\n",
        "        num_epochs = 100\n",
        "        batch_size = 50\n",
        "        learning_rate = 2e-3\n",
        "        tau = 1\n",
        "\n",
        "\n",
        "        MMCL = DualEncoders(d1, d2, r)\n",
        "        optimizer = torch.optim.AdamW(MMCL.parameters(), lr=learning_rate)\n",
        "\n",
        "        for epoch in range(num_epochs):\n",
        "            for i in range(int(n/batch_size)):\n",
        "                data1_batch, data2_batch = data1[(i*batch_size):((i+1)*batch_size)], data2[(i*batch_size):((i+1)*batch_size)]\n",
        "                logits = MMCL.sim(data1_batch, data2_batch, tau=tau)\n",
        "\n",
        "                ## CLIP loss function\n",
        "                loss1 = - torch.diag(logits).sum() + torch.log(torch.exp(logits).sum(axis=1)).sum()\n",
        "                loss2 = - torch.diag(logits).sum() + torch.log(torch.exp(logits).sum(axis=0)).sum()\n",
        "\n",
        "                loss = (loss1 + loss2) / 2 / batch_size\n",
        "                loss.backward()\n",
        "                \n",
        "                optimizer.step()\n",
        "                optimizer.zero_grad()\n",
        "          \n",
        "            \n",
        "\n",
        "        similarity = MMCL.sim(data1_test, data2_test, tau=1)\n",
        "        idx = torch.argmax(similarity, dim=1)\n",
        "    \n",
        "        acc = (1 - (torch.arange(len(idx)) != idx).sum() / len(idx))#.to('cpu').detach().numpy()\n",
        "        sup_test_accuracy += acc/ensure_level\n",
        "\n",
        "        tau = 1\n",
        "        num_epochs = 100\n",
        "        \n",
        "        for l, epoch in enumerate(range(num_epochs)):\n",
        "            for j in range(int(N/batch_size)):\n",
        "                data1_batch, data2_batch = data1_u[(j*batch_size):((j+1)*batch_size)], data2_u[(j*batch_size):((j+1)*batch_size)]\n",
        "                logits = MMCL.sim(data1_batch, data2_batch, tau=tau)\n",
        "\n",
        "                ## semi-supervised CLIP\n",
        "                logits1d = logits.view(batch_size**2)\n",
        "                _, idx = torch.sort(logits1d, descending=True)\n",
        "                idx = idx[:batch_size] # assuming that there are `batch_size` number of ground-truth edges\n",
        "\n",
        "                loss1 = - logits1d[idx].sum() + torch.log(torch.exp(logits).sum(axis=1)).sum()\n",
        "                loss2 = - logits1d[idx].sum() + torch.log(torch.exp(logits).sum(axis=0)).sum()\n",
        "\n",
        "                loss = (loss1 + loss2) / 2 / batch_size\n",
        "                loss.backward()\n",
        "                \n",
        "                optimizer.step()\n",
        "                optimizer.zero_grad()\n",
        "            \n",
        "\n",
        "        similarity = MMCL.sim(data1_test, data2_test, tau=1)\n",
        "        idx = torch.argmax(similarity, dim=1)\n",
        "    \n",
        "        acc = (1 - (torch.arange(len(idx)) != idx).sum() / len(idx))#.to('cpu').detach().numpy()\n",
        "        unsup_test_accuracy += acc/ensure_level\n",
        "    return sup_test_accuracy,unsup_test_accuracy"
      ],
      "metadata": {
        "id": "7O8UrzF8Rt-j"
      },
      "execution_count": 11,
      "outputs": []
    },
    {
      "cell_type": "code",
      "source": [
        "ensure_level = 1\n",
        "Nlist_unsup = [500*x for x in range(1,11)]\n",
        "sup_list, unsup_list = np.zeros((len(Nlist_unsup))), np.zeros((len(Nlist_unsup)))\n",
        "for i_unsuplist in range(len(Nlist_unsup)):\n",
        "    sup_list[i_unsuplist], unsup_list[i_unsuplist] = weakly_supervised_learning(300,Nlist_unsup[i_unsuplist],snr,ensure_level)\n",
        "    print(f\"N : {Nlist_unsup[i_unsuplist]} sup1 : {sup_list[i_unsuplist]}, unsup1 : {unsup_list[i_unsuplist]}\")\n"
      ],
      "metadata": {
        "colab": {
          "base_uri": "https://localhost:8080/"
        },
        "id": "Fo9kvgwoRwQA",
        "outputId": "c0115784-b834-4390-e1f2-9dc268de8661"
      },
      "execution_count": 12,
      "outputs": [
        {
          "output_type": "stream",
          "name": "stdout",
          "text": [
            "N : 500 sup1 : 0.3877999782562256, unsup1 : 0.4480000138282776\n",
            "N : 1000 sup1 : 0.39139997959136963, unsup1 : 0.5206999778747559\n",
            "N : 1500 sup1 : 0.4221000075340271, unsup1 : 0.5665000081062317\n",
            "N : 2000 sup1 : 0.43220001459121704, unsup1 : 0.5764999985694885\n",
            "N : 2500 sup1 : 0.4333000183105469, unsup1 : 0.5924000144004822\n",
            "N : 3000 sup1 : 0.37790000438690186, unsup1 : 0.5864999890327454\n",
            "N : 3500 sup1 : 0.37870001792907715, unsup1 : 0.5958000421524048\n",
            "N : 4000 sup1 : 0.3733999729156494, unsup1 : 0.6008999943733215\n",
            "N : 4500 sup1 : 0.37540000677108765, unsup1 : 0.5936999917030334\n",
            "N : 5000 sup1 : 0.4156000018119812, unsup1 : 0.5961999893188477\n"
          ]
        }
      ]
    },
    {
      "cell_type": "code",
      "source": [
        "Nlist_unsup = np.array(Nlist_unsup)\n",
        "np.savez(f\"11oct_sup_unsup_n300_d1_40_d2_39_snr_{snr}.npz\",sup_list=sup_list,unsup_list=unsup_list,Nlist_unsup=Nlist_unsup)\n",
        "\n",
        "import matplotlib.pyplot as plt\n",
        "plt.figure()\n",
        "plt.plot(Nlist_unsup, unsup_list)\n",
        "plt.plot(Nlist_unsup, sup_list)\n",
        "plt.xlabel(\"Unpaired samples\")\n",
        "plt.ylabel(\"Test Accuracy\")"
      ],
      "metadata": {
        "colab": {
          "base_uri": "https://localhost:8080/",
          "height": 297
        },
        "id": "XVAY2dJ-RzNX",
        "outputId": "2ecb24b5-9547-40f2-ee8a-29c561c3cafb"
      },
      "execution_count": 13,
      "outputs": [
        {
          "output_type": "execute_result",
          "data": {
            "text/plain": [
              "Text(0, 0.5, 'Test Accuracy')"
            ]
          },
          "metadata": {},
          "execution_count": 13
        },
        {
          "output_type": "display_data",
          "data": {
            "text/plain": [
              "<Figure size 432x288 with 1 Axes>"
            ],
            "image/png": "[encoded data removed]"
          },
          "metadata": {
            "needs_background": "light"
          }
        }
      ]
    },
    {
      "cell_type": "code",
      "source": [],
      "metadata": {
        "id": "WTte0NoQR6Cx"
      },
      "execution_count": null,
      "outputs": []
    }
  ]
}